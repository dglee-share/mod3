{
 "cells": [
  {
   "cell_type": "code",
   "execution_count": 4,
   "id": "41ed1a8f",
   "metadata": {},
   "outputs": [
    {
     "name": "stdout",
     "output_type": "stream",
     "text": [
      "1.4.4\n",
      "1.23.1\n"
     ]
    }
   ],
   "source": [
    "import pandas as pd\n",
    "import numpy as np\n",
    "\n",
    "print(pd.__version__)\n",
    "print(np.__version__)"
   ]
  },
  {
   "cell_type": "code",
   "execution_count": 10,
   "id": "901e4cc9",
   "metadata": {},
   "outputs": [
    {
     "name": "stdout",
     "output_type": "stream",
     "text": [
      "0    5\n",
      "dtype: int64\n",
      "0    a\n",
      "dtype: object\n"
     ]
    }
   ],
   "source": [
    "s1 = pd.Series(5)\n",
    "print(s1)\n",
    "#print(type(s1))\n",
    "\n",
    "s2 = pd.Series('a')\n",
    "print(s2)"
   ]
  },
  {
   "cell_type": "code",
   "execution_count": 15,
   "id": "b690e4ed",
   "metadata": {},
   "outputs": [
    {
     "name": "stdout",
     "output_type": "stream",
     "text": [
      "0    1\n",
      "1    2\n",
      "2    3\n",
      "dtype: int32\n",
      "[1, 2, 3, 'a', 'b', 'c']\n",
      "['1' '2' '3' 'a' 'b' 'c']\n",
      "0    1\n",
      "1    2\n",
      "2    3\n",
      "3    a\n",
      "4    b\n",
      "5    c\n",
      "dtype: object\n"
     ]
    }
   ],
   "source": [
    "list1 = [1,2,3]\n",
    "list2 = ['a', 'b', 'c']\n",
    "\n",
    "s1 = pd.Series(np.array(list1))\n",
    "print(s1)\n",
    "\n",
    "list3 = list1 + list2\n",
    "print(list3)\n",
    "print(np.array(list3))\n",
    "\n",
    "s2 = pd.Series(list3)\n",
    "print(s2)"
   ]
  },
  {
   "cell_type": "code",
   "execution_count": 20,
   "id": "daa4b19c",
   "metadata": {},
   "outputs": [
    {
     "name": "stdout",
     "output_type": "stream",
     "text": [
      "('a', 1)\n",
      "('b', 2)\n",
      "('c', 3)\n",
      "{'a': 1, 'b': 2, 'c': 3}\n",
      "a    1\n",
      "b    2\n",
      "c    3\n",
      "dtype: int64\n"
     ]
    }
   ],
   "source": [
    "for i in zip(list2, list1):\n",
    "    print(i)\n",
    "\n",
    "d1 = dict(zip(list2, list1))\n",
    "print(d1)\n",
    "\n",
    "s1 = pd.Series(d1)\n",
    "print(s1)"
   ]
  },
  {
   "cell_type": "code",
   "execution_count": 22,
   "id": "b748b680",
   "metadata": {},
   "outputs": [
    {
     "name": "stdout",
     "output_type": "stream",
     "text": [
      "a    1\n",
      "b    2\n",
      "c    3\n",
      "dtype: int64\n"
     ]
    }
   ],
   "source": [
    "s1 = pd.Series(list1, index=list2)\n",
    "print(s1)"
   ]
  },
  {
   "cell_type": "code",
   "execution_count": 23,
   "id": "e8a9f4d8",
   "metadata": {},
   "outputs": [
    {
     "name": "stdout",
     "output_type": "stream",
     "text": [
      "1월    1\n",
      "2월    2\n",
      "3월    3\n",
      "dtype: int64\n"
     ]
    }
   ],
   "source": [
    "s1 = pd.Series(list1, index=['1월', '2월', '3월'])\n",
    "print(s1)"
   ]
  },
  {
   "cell_type": "code",
   "execution_count": 31,
   "id": "9c62e66f",
   "metadata": {},
   "outputs": [
    {
     "name": "stdout",
     "output_type": "stream",
     "text": [
      "b    1\n",
      "c    2\n",
      "a    3\n",
      "dtype: int64\n",
      "Index(['b', 'c', 'a'], dtype='object')\n",
      "a    3.0\n",
      "b    1.0\n",
      "c    2.0\n",
      "x    NaN\n",
      "dtype: float64\n"
     ]
    }
   ],
   "source": [
    "s1 = pd.Series(data = list1, index=list('bca'))\n",
    "print(s1)\n",
    "print(s1.index)\n",
    "print(s1.reindex(list('abcx')))"
   ]
  },
  {
   "cell_type": "code",
   "execution_count": 36,
   "id": "2af6a2f1",
   "metadata": {},
   "outputs": [
    {
     "name": "stdout",
     "output_type": "stream",
     "text": [
      "a    1\n",
      "b    2\n",
      "c    3\n",
      "dtype: int64\n",
      "[1 2 3]\n",
      "<class 'numpy.ndarray'>\n",
      "Index(['a', 'b', 'c'], dtype='object')\n",
      "<class 'pandas.core.indexes.base.Index'>\n",
      "a\n",
      "b\n",
      "c\n"
     ]
    }
   ],
   "source": [
    "s1 = pd.Series([1,2,3], ['a','b','c'])\n",
    "print(s1)\n",
    "a1 = s1.to_numpy()\n",
    "print(a1)\n",
    "print(type(a1))\n",
    "\n",
    "list4 = s1.index\n",
    "print(list4)\n",
    "print(type(list4))\n",
    "\n",
    "for i in list4:\n",
    "    print(i)"
   ]
  },
  {
   "cell_type": "code",
   "execution_count": 38,
   "id": "bb68ea76",
   "metadata": {},
   "outputs": [
    {
     "name": "stdout",
     "output_type": "stream",
     "text": [
      "a    1\n",
      "b    2\n",
      "c    3\n",
      "dtype: int64\n",
      "x    1\n",
      "y    2\n",
      "z    3\n",
      "dtype: int64\n"
     ]
    }
   ],
   "source": [
    "print(s1)\n",
    "s1.index = ['x','y','z']\n",
    "print(s1)"
   ]
  },
  {
   "cell_type": "code",
   "execution_count": 41,
   "id": "1f7531c0",
   "metadata": {},
   "outputs": [
    {
     "name": "stdout",
     "output_type": "stream",
     "text": [
      "a    1\n",
      "b    2\n",
      "c    3\n",
      "dtype: int64\n",
      "b    30\n",
      "c    20\n",
      "d    10\n",
      "dtype: int64\n",
      "a     NaN\n",
      "b    32.0\n",
      "c    23.0\n",
      "d     NaN\n",
      "dtype: float64\n"
     ]
    }
   ],
   "source": [
    "s1 = pd.Series([1,2,3], list('abc'))\n",
    "s2 = pd.Series([30,20,10], list('bcd'))\n",
    "print(s1)\n",
    "print(s2)\n",
    "print(s1+s2)"
   ]
  },
  {
   "cell_type": "code",
   "execution_count": 47,
   "id": "f780a71b",
   "metadata": {},
   "outputs": [
    {
     "name": "stdout",
     "output_type": "stream",
     "text": [
      "[[0 1]\n",
      " [2 3]\n",
      " [4 5]]\n",
      "   x  y\n",
      "a  0  1\n",
      "b  2  3\n",
      "c  4  5\n"
     ]
    }
   ],
   "source": [
    "a1 = np.arange(6).reshape((3,2))\n",
    "print(a1)\n",
    "df1 = pd.DataFrame(a1, index=list('abc'), columns=list('xy'))\n",
    "print(df1)"
   ]
  },
  {
   "cell_type": "code",
   "execution_count": 50,
   "id": "2f24f9ce",
   "metadata": {},
   "outputs": [
    {
     "name": "stdout",
     "output_type": "stream",
     "text": [
      "    S1    S2\n",
      "a  1.0   NaN\n",
      "b  2.0  30.0\n",
      "c  3.0  20.0\n",
      "d  NaN  10.0\n",
      "      x     y\n",
      "i1  1.0   NaN\n",
      "i2  2.0  30.0\n",
      "i3  3.0  20.0\n",
      "i4  NaN  10.0\n"
     ]
    }
   ],
   "source": [
    "s1 = pd.Series([1,2,3], list('abc'))\n",
    "s2 = pd.Series([30,20,10], list('bcd'))\n",
    "#df1 = pd.DataFrame([s1,s2])\n",
    "df1 = pd.DataFrame({'S1': s1, 'S2':s2})\n",
    "print(df1)\n",
    "df1.index = ['i1', 'i2','i3','i4']\n",
    "df1.columns = ['x','y']\n",
    "print(df1)"
   ]
  },
  {
   "cell_type": "code",
   "execution_count": 65,
   "id": "ac1f38d4",
   "metadata": {},
   "outputs": [
    {
     "name": "stdout",
     "output_type": "stream",
     "text": [
      "a     5\n",
      "b     6\n",
      "c     7\n",
      "d     8\n",
      "e     9\n",
      "f    10\n",
      "dtype: int32\n",
      "b    6\n",
      "d    8\n",
      "dtype: int32\n"
     ]
    }
   ],
   "source": [
    "s1 = pd.Series(np.arange(5,11), list('abcdef'))\n",
    "print(s1)\n",
    "\n",
    "#print(s1[3])\n",
    "#print(s1[1:5:2])\n",
    "#print(s1%2 == 0)\n",
    "#print(s1[s1%2 == 0])\n",
    "#print(s1.where(s1%2 == 0))\n",
    "#print(s1[s1>7])\n",
    "#print(s1.where(s1>7))\n",
    "#print(s1['c'])\n",
    "\n",
    "#print(s1['x'])\n",
    "#print(s1.get('x'))\n",
    "print(s1['b':'e':2])\n"
   ]
  },
  {
   "cell_type": "code",
   "execution_count": 78,
   "id": "348dcc5a",
   "metadata": {},
   "outputs": [
    {
     "name": "stdout",
     "output_type": "stream",
     "text": [
      "a     5\n",
      "b     6\n",
      "c     7\n",
      "d     8\n",
      "e     9\n",
      "f    10\n",
      "dtype: int32\n",
      "b    6\n",
      "d    8\n",
      "dtype: int32\n"
     ]
    }
   ],
   "source": [
    "# iloc, loc\n",
    "s1 = pd.Series(np.arange(5,11), list('abcdef'))\n",
    "print(s1)\n",
    "\n",
    "#rint(s1.iloc[4])\n",
    "#print(s1[4])\n",
    "#print(s1.iloc[1:4:2])\n",
    "#rint(s1.loc[s1>7])\n",
    "#rint(s1.loc['b'])\n",
    "print(s1.loc['b':'e':2])"
   ]
  },
  {
   "cell_type": "code",
   "execution_count": 113,
   "id": "2cfdfd6f",
   "metadata": {},
   "outputs": [
    {
     "name": "stdout",
     "output_type": "stream",
     "text": [
      "    m   n   x   y   z\n",
      "a   0   1   2   3   4\n",
      "b   5   6   7   8   9\n",
      "c  10  11  12  13  14\n",
      "d  15  16  17  18  19\n",
      "e  20  21  22  23  24\n",
      "f  25  26  27  28  29\n",
      "    m   n   x   y\n",
      "a   0   1   2   3\n",
      "b   5   6   7   8\n",
      "c  10  11  12  13\n",
      "d  15  16  17  18\n",
      "e  20  21  22  23\n",
      "f  25  26  27  28\n",
      "<class 'pandas.core.series.Series'>\n",
      "a     0\n",
      "b     5\n",
      "c    10\n",
      "d    15\n",
      "e    20\n",
      "f    25\n",
      "Name: m, dtype: int32\n"
     ]
    }
   ],
   "source": [
    "a1 = np.arange(30).reshape((6,5))\n",
    "df1 = pd.DataFrame(a1, index=list('abcdef'), columns=list('mnxyz'))\n",
    "print(df1)\n",
    "\n",
    "#x = df1[['z','x']]\n",
    "#print(type(x))\n",
    "#print(x)\n",
    "\n",
    "#print(df1['a':'c'])\n",
    "\n",
    "#df1['m']     # column\n",
    "#print(df1[['m','x','y']])    #column\n",
    "#print(df1['a':'d'])   # index (row)\n",
    "\n",
    "#df1.loc['c']     # index\n",
    "#print(df1.loc['b':'e'])\n",
    "#print(df1.loc[:, ['m','x']])\n",
    "#print(df1.loc[:, 'm':'y'])\n",
    "print(df1.iloc[:, 0:4])\n",
    "\n",
    "x = df1.loc[:, 'm']\n",
    "print(type(x))\n",
    "print(x)"
   ]
  }
 ],
 "metadata": {
  "kernelspec": {
   "display_name": "Python 3 (ipykernel)",
   "language": "python",
   "name": "python3"
  },
  "language_info": {
   "codemirror_mode": {
    "name": "ipython",
    "version": 3
   },
   "file_extension": ".py",
   "mimetype": "text/x-python",
   "name": "python",
   "nbconvert_exporter": "python",
   "pygments_lexer": "ipython3",
   "version": "3.10.5"
  }
 },
 "nbformat": 4,
 "nbformat_minor": 5
}
