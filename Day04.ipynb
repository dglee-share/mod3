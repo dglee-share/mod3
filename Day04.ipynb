{
 "cells": [
  {
   "cell_type": "code",
   "execution_count": 1,
   "id": "7ba114da",
   "metadata": {},
   "outputs": [],
   "source": [
    "import pandas as pd\n",
    "import numpy as np\n",
    "\n",
    "np_rng = np.random.default_rng()"
   ]
  },
  {
   "cell_type": "code",
   "execution_count": 21,
   "id": "359e9c6f",
   "metadata": {},
   "outputs": [
    {
     "name": "stdout",
     "output_type": "stream",
     "text": [
      "    0\n",
      "a  10\n",
      "b  11\n",
      "c  12\n",
      "d  13\n",
      "e  14\n",
      "f  15\n",
      "g  16\n",
      "h  17\n",
      "i  18\n",
      "j  19\n",
      "<class 'pandas.core.frame.DataFrame'>\n",
      "    a   b   c   d   e   f   g   h   i   j\n",
      "0  10  11  12  13  14  15  16  17  18  19\n"
     ]
    }
   ],
   "source": [
    "#concat : concatenate\n",
    "s1 = pd.Series(np.arange(10,20), index=list('abcdefghij'))\n",
    "s2 = pd.Series(np.arange(100,110), index=list('bcdefghijk'))\n",
    "\n",
    "#print(s1)\n",
    "#print(s2)\n",
    "\n",
    "s3 = pd.concat((s1,s2), axis=1, join='outer')\n",
    "#rint(s3)\n",
    "#rint(type(s3))\n",
    "\n",
    "s4 = s1.to_frame()\n",
    "print(s4)\n",
    "print(type(s4))\n",
    "print(s4.T)"
   ]
  },
  {
   "cell_type": "code",
   "execution_count": 27,
   "id": "4af5400e",
   "metadata": {},
   "outputs": [
    {
     "name": "stdout",
     "output_type": "stream",
     "text": [
      "   S1  S2  S3  S1  S2  S3\n",
      "b  10  48  33 -30 -19 -38\n",
      "c  42  26  22 -49 -31 -29\n",
      "d  14  14  19 -12 -17 -17\n",
      "e  30  23  24 -12 -12 -40\n"
     ]
    }
   ],
   "source": [
    "df1 = pd.DataFrame(np_rng.integers(10,50,(5,3)), index=list('abcde'), columns=['S1','S2','S3'])\n",
    "df2 = pd.DataFrame(np_rng.integers(-50,-10,(5,3)), index=list('bcdef'), columns=['S1','S2','S3'])\n",
    "#print(df1)\n",
    "#print(df2)\n",
    "df3 = pd.concat([df1,df2], axis=1, join='inner')\n",
    "print(df3)"
   ]
  },
  {
   "cell_type": "code",
   "execution_count": 54,
   "id": "3e66f797",
   "metadata": {},
   "outputs": [
    {
     "name": "stdout",
     "output_type": "stream",
     "text": [
      "   S1  S5  S2  S10  S3\n",
      "a  42 -10  32   90  13\n",
      "b  40   6  17  106  20\n",
      "c  23  -6  46   94  43\n",
      "d  39  -3  35   97  46\n",
      "e  33   0  33  100  14\n",
      ".......\n",
      "None\n",
      ".......\n",
      "   S1  S5  S10\n",
      "a  42 -10   90\n",
      "c  23  -6   94\n",
      "e  33   0  100\n",
      ".......\n",
      "   S1  S5  S10\n",
      "a  42 -10   90\n",
      "b  40   6  106\n",
      "c  23  -6   94\n",
      "d  39  -3   97\n",
      "e  33   0  100\n",
      "S1      4\n",
      "S5     -5\n",
      "S10   -10\n",
      "dtype: int64\n",
      "      0\n",
      "S1    4\n",
      "S5   -5\n",
      "S10 -10\n",
      "   S1  S5  S10\n",
      "a  42 -10   90\n",
      "b  40   6  106\n",
      "c  23  -6   94\n",
      "d  39  -3   97\n",
      "e  33   0  100\n",
      "0   4  -5  -10\n"
     ]
    }
   ],
   "source": [
    "df1 = pd.DataFrame(np_rng.integers(10,50,(5,3)), index=list('abcde'), columns=['S1','S2','S3'])\n",
    "#rint(df1)\n",
    "\n",
    "s10 = pd.Series(np_rng.integers(-10,10,5), index=list('abcde'))\n",
    "#rint(s10)\n",
    "\n",
    "#df1['S4'] = s10\n",
    "#print(df1)\n",
    "\n",
    "#df10 = pd.concat([df1, s10.to_frame()], axis=1)\n",
    "#print(df10)\n",
    "\n",
    "df1.insert(1, 'S5', s10)\n",
    "#rint(df1)\n",
    "\n",
    "df1.insert(3, 'S10', s10+100)\n",
    "print(df1)\n",
    "print('.......')\n",
    "print(df1.drop(['S2', 'S3'], axis=1, inplace=True))\n",
    "print('.......')\n",
    "print(df1.drop(['b','d']))\n",
    "print('.......')\n",
    "print(df1)\n",
    "\n",
    "s11 = pd.Series(np_rng.integers(-10,10,3), index=['S1','S5','S10'])\n",
    "print(s11)\n",
    "print(s11.to_frame())\n",
    "df11 = pd.concat([df1,s11.to_frame().T], axis=0)\n",
    "print(df11)"
   ]
  },
  {
   "cell_type": "code",
   "execution_count": 67,
   "id": "efffa295",
   "metadata": {},
   "outputs": [
    {
     "name": "stdout",
     "output_type": "stream",
     "text": [
      "a    10.0\n",
      "b    11.0\n",
      "c    12.0\n",
      "d    13.0\n",
      "e    14.0\n",
      "f    15.0\n",
      "g    16.0\n",
      "h    17.0\n",
      "i    18.0\n",
      "j    19.0\n",
      "k     NaN\n",
      "dtype: float64\n",
      "a    10.0\n",
      "b    11.0\n",
      "c    12.0\n",
      "d    13.0\n",
      "e    14.0\n",
      "f    15.0\n",
      "g    16.0\n",
      "h    17.0\n",
      "i    18.0\n",
      "j   -19.0\n",
      "k    -1.0\n",
      "dtype: float64\n"
     ]
    }
   ],
   "source": [
    "s1 = pd.Series(np.arange(10,20), index=list('abcdefghij'))\n",
    "s1 = s1.reindex(list('abcdefghijk'))\n",
    "print(s1)\n",
    "#print(s1.hasnans)\n",
    "#print(s1.isna())\n",
    "#print(s1[s1.isna()])\n",
    "#print(s1.dropna())\n",
    "\n",
    "#s1[s1.isna()] = -1.0\n",
    "#s1.fillna(-1.0)\n",
    "s1.replace(np.NaN, -1.0, inplace=True)\n",
    "s1.replace(19.0, -19.0, inplace=True)\n",
    "print(s1)"
   ]
  },
  {
   "cell_type": "code",
   "execution_count": 72,
   "id": "3b8c70d3",
   "metadata": {},
   "outputs": [
    {
     "name": "stdout",
     "output_type": "stream",
     "text": [
      "a    10.0\n",
      "b    11.0\n",
      "c    12.0\n",
      "d    13.0\n",
      "e    14.0\n",
      "f    15.0\n",
      "g    16.0\n",
      "h    17.0\n",
      "i    18.0\n",
      "j    10.0\n",
      "k    -1.0\n",
      "dtype: float64\n",
      " 10.0    2\n",
      " 11.0    1\n",
      " 12.0    1\n",
      " 13.0    1\n",
      " 14.0    1\n",
      " 15.0    1\n",
      " 16.0    1\n",
      " 17.0    1\n",
      " 18.0    1\n",
      "-1.0     1\n",
      "dtype: int64\n"
     ]
    }
   ],
   "source": [
    "s1.replace(-19.0, 10.0, inplace=True)\n",
    "print(s1)\n",
    "#print(s1.describe())\n",
    "#print(s1.unique())\n",
    "print(s1.value_counts())"
   ]
  },
  {
   "cell_type": "code",
   "execution_count": 83,
   "id": "2c8dac1e",
   "metadata": {},
   "outputs": [
    {
     "name": "stdout",
     "output_type": "stream",
     "text": [
      "    S1  S2\n",
      "a  1.0  10\n",
      "b  2.0  20\n",
      "c  3.0  30\n",
      "x  NaN  40\n",
      "S1 True\n",
      "S2 False\n",
      "      S1     S2\n",
      "a  False  False\n",
      "b  False  False\n",
      "c  False  False\n",
      "x   True  False\n",
      "None\n",
      "    S1  S2\n",
      "a  1.0  10\n",
      "b  2.0  20\n",
      "c  3.0  30\n",
      "x -1.0  40\n",
      "    S1  S2\n",
      "a  1.0  10\n",
      "b  2.0  20\n",
      "c  3.0  30\n",
      "x -1.0  40\n"
     ]
    }
   ],
   "source": [
    "s1 = pd.Series([1,2,3], list('abc'), dtype=int)\n",
    "s2 = pd.Series([10,20,30,40], list('abcx'), dtype=int)\n",
    "df1 = pd.DataFrame({'S1':s1, 'S2':s2})\n",
    "print(df1)\n",
    "\n",
    "for s in df1:\n",
    "    print(s, df1[s].hasnans)\n",
    "    \n",
    "print(df1.isna())\n",
    "print(df1.fillna(-1.0, inplace=True))\n",
    "print(df1)\n",
    "print(df1.dropna())"
   ]
  }
 ],
 "metadata": {
  "kernelspec": {
   "display_name": "Python 3 (ipykernel)",
   "language": "python",
   "name": "python3"
  },
  "language_info": {
   "codemirror_mode": {
    "name": "ipython",
    "version": 3
   },
   "file_extension": ".py",
   "mimetype": "text/x-python",
   "name": "python",
   "nbconvert_exporter": "python",
   "pygments_lexer": "ipython3",
   "version": "3.10.5"
  }
 },
 "nbformat": 4,
 "nbformat_minor": 5
}
