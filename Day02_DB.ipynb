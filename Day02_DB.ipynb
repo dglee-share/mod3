{
 "cells": [
  {
   "cell_type": "code",
   "execution_count": 1,
   "id": "e03ac11e",
   "metadata": {},
   "outputs": [
    {
     "ename": "KeyboardInterrupt",
     "evalue": "",
     "output_type": "error",
     "traceback": [
      "\u001b[1;31m---------------------------------------------------------------------------\u001b[0m",
      "\u001b[1;31mOperationalError\u001b[0m                          Traceback (most recent call last)",
      "    \u001b[1;31m[... skipping hidden 1 frame]\u001b[0m\n",
      "Input \u001b[1;32mIn [1]\u001b[0m, in \u001b[0;36m<cell line: 4>\u001b[1;34m()\u001b[0m\n\u001b[0;32m      2\u001b[0m \u001b[38;5;28;01mimport\u001b[39;00m \u001b[38;5;21;01msys\u001b[39;00m\n\u001b[1;32m----> 4\u001b[0m conn \u001b[38;5;241m=\u001b[39m \u001b[43mmariadb\u001b[49m\u001b[38;5;241;43m.\u001b[39;49m\u001b[43mconnect\u001b[49m\u001b[43m(\u001b[49m\u001b[43muser\u001b[49m\u001b[38;5;241;43m=\u001b[39;49m\u001b[38;5;124;43m\"\u001b[39;49m\u001b[38;5;124;43mtoor\u001b[39;49m\u001b[38;5;124;43m\"\u001b[39;49m\u001b[43m,\u001b[49m\n\u001b[0;32m      5\u001b[0m \u001b[43m                       \u001b[49m\u001b[43mpassword\u001b[49m\u001b[38;5;241;43m=\u001b[39;49m\u001b[38;5;124;43m\"\u001b[39;49m\u001b[38;5;124;43mtoor\u001b[39;49m\u001b[38;5;124;43m\"\u001b[39;49m\u001b[43m,\u001b[49m\u001b[43m \u001b[49m\u001b[43mhost\u001b[49m\u001b[38;5;241;43m=\u001b[39;49m\u001b[38;5;124;43m\"\u001b[39;49m\u001b[38;5;124;43m192.168.7.174\u001b[39;49m\u001b[38;5;124;43m\"\u001b[39;49m\u001b[43m,\u001b[49m\n\u001b[0;32m      6\u001b[0m \u001b[43m                       \u001b[49m\u001b[43mport\u001b[49m\u001b[38;5;241;43m=\u001b[39;49m\u001b[38;5;241;43m3306\u001b[39;49m\u001b[43m,\u001b[49m\u001b[43m \u001b[49m\u001b[43mdatabase\u001b[49m\u001b[38;5;241;43m=\u001b[39;49m\u001b[38;5;124;43m\"\u001b[39;49m\u001b[38;5;124;43mchinook\u001b[39;49m\u001b[38;5;124;43m\"\u001b[39;49m\u001b[43m)\u001b[49m\n\u001b[0;32m      7\u001b[0m cur \u001b[38;5;241m=\u001b[39m conn\u001b[38;5;241m.\u001b[39mcursor()\n",
      "File \u001b[1;32m~\\AppData\\Local\\Programs\\Python\\Python310\\lib\\site-packages\\mariadb\\__init__.py:142\u001b[0m, in \u001b[0;36mconnect\u001b[1;34m(connectionclass, *args, **kwargs)\u001b[0m\n\u001b[0;32m    140\u001b[0m         \u001b[38;5;28;01mreturn\u001b[39;00m c\n\u001b[1;32m--> 142\u001b[0m connection \u001b[38;5;241m=\u001b[39m connectionclass(\u001b[38;5;241m*\u001b[39margs, \u001b[38;5;241m*\u001b[39m\u001b[38;5;241m*\u001b[39mkwargs)\n\u001b[0;32m    143\u001b[0m \u001b[38;5;28;01mif\u001b[39;00m \u001b[38;5;129;01mnot\u001b[39;00m \u001b[38;5;28misinstance\u001b[39m(connection, mariadb\u001b[38;5;241m.\u001b[39mconnections\u001b[38;5;241m.\u001b[39mConnection):\n",
      "File \u001b[1;32m~\\AppData\\Local\\Programs\\Python\\Python310\\lib\\site-packages\\mariadb\\connections.py:83\u001b[0m, in \u001b[0;36mConnection.__init__\u001b[1;34m(self, *args, **kwargs)\u001b[0m\n\u001b[0;32m     81\u001b[0m     kwargs[\u001b[38;5;124m\"\u001b[39m\u001b[38;5;124mssl\u001b[39m\u001b[38;5;124m\"\u001b[39m] \u001b[38;5;241m=\u001b[39m \u001b[38;5;28;01mTrue\u001b[39;00m\n\u001b[1;32m---> 83\u001b[0m \u001b[38;5;28msuper\u001b[39m()\u001b[38;5;241m.\u001b[39m\u001b[38;5;21m__init__\u001b[39m(\u001b[38;5;241m*\u001b[39margs, \u001b[38;5;241m*\u001b[39m\u001b[38;5;241m*\u001b[39mkwargs)\n\u001b[0;32m     84\u001b[0m \u001b[38;5;28mself\u001b[39m\u001b[38;5;241m.\u001b[39mautocommit \u001b[38;5;241m=\u001b[39m autocommit\n",
      "\u001b[1;31mOperationalError\u001b[0m: Can't connect to server on '192.168.7.174' (10060)",
      "\nDuring handling of the above exception, another exception occurred:\n",
      "\u001b[1;31mKeyboardInterrupt\u001b[0m                         Traceback (most recent call last)",
      "\u001b[1;31mKeyboardInterrupt\u001b[0m: "
     ]
    }
   ],
   "source": [
    "import mariadb\n",
    "import sys\n",
    "\n",
    "conn = mariadb.connect(user=\"toor\",\n",
    "                       password=\"toor\", host=\"192.168.7.174\",\n",
    "                       port=3306, database=\"chinook\")\n",
    "cur = conn.cursor()\n",
    "cur.execute(\"select * from albums limit 5;\")\n",
    "for c in cur:\n",
    "    print(c)"
   ]
  },
  {
   "cell_type": "code",
   "execution_count": 2,
   "id": "822fc1a7",
   "metadata": {},
   "outputs": [
    {
     "name": "stdout",
     "output_type": "stream",
     "text": [
      "(21, 3, 'Peacock', 'Jane')\n",
      "(20, 4, 'Park', 'Margaret')\n",
      "(18, 5, 'Johnson', 'Steve')\n"
     ]
    }
   ],
   "source": [
    "import sqlite3\n",
    "\n",
    "conn = sqlite3.connect(\"c:\\sqlite\\chinook.db\")\n",
    "\n",
    "cur = conn.cursor()\n",
    "sql = \"select count(customers.customerid), customers.supportrepid, \\\n",
    "        employees.LastName, employees.FirstName \\\n",
    "        from customers \\\n",
    "        join employees on customers.supportrepid = employees.employeeid \\\n",
    "        group by customers.supportrepid;\"\n",
    "resp = cur.execute(sql)\n",
    "for c in resp:\n",
    "    print(c)\n",
    "    \n",
    "conn.close()"
   ]
  },
  {
   "cell_type": "code",
   "execution_count": 3,
   "id": "c46dcbdc",
   "metadata": {},
   "outputs": [],
   "source": [
    "with open('iris.data','r') as f:\n",
    "    raw = f.readlines()\n",
    "\n",
    "data=[]\n",
    "for r in raw[:-1]:\n",
    "    t = []\n",
    "    for n in r.split(',')[:4]:\n",
    "        t.append(float(n))\n",
    "    data.append(t)\n",
    "#print(data)\n",
    "\n",
    "conn = sqlite3.connect(\"c:\\sqlite\\chinook.db\")\n",
    "\n",
    "cur = conn.cursor()\n",
    "for index, d in enumerate(data):\n",
    "    sql = \"insert into iris(id, sepal_len, sepal_w, petal_len, petal_w)\\\n",
    "    values({},{},{},{},{});\".format(index+1, d[0],d[1],d[2],d[3])\n",
    "    cur.execute(sql)\n",
    "#resp = cur.execute(sql)\n",
    "conn.commit()\n",
    "conn.close()"
   ]
  }
 ],
 "metadata": {
  "kernelspec": {
   "display_name": "Python 3 (ipykernel)",
   "language": "python",
   "name": "python3"
  },
  "language_info": {
   "codemirror_mode": {
    "name": "ipython",
    "version": 3
   },
   "file_extension": ".py",
   "mimetype": "text/x-python",
   "name": "python",
   "nbconvert_exporter": "python",
   "pygments_lexer": "ipython3",
   "version": "3.10.5"
  }
 },
 "nbformat": 4,
 "nbformat_minor": 5
}
