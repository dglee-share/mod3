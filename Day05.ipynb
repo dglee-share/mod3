{
 "cells": [
  {
   "cell_type": "code",
   "execution_count": 1,
   "id": "13422bca",
   "metadata": {},
   "outputs": [],
   "source": [
    "import pandas as pd\n",
    "import numpy as np\n",
    "\n",
    "npr = np.random"
   ]
  },
  {
   "cell_type": "code",
   "execution_count": 23,
   "id": "c2862d19",
   "metadata": {},
   "outputs": [
    {
     "name": "stdout",
     "output_type": "stream",
     "text": [
      "    A   B   C   D\n",
      "a  47  11  41  26\n",
      "b  93  90  71  58\n",
      "c  31  86  88  28\n",
      "d  20  63  28  60\n",
      "e  98  76  29  29\n",
      "f  55  68  94  22\n",
      "a    11\n",
      "b    90\n",
      "c    86\n",
      "d    63\n",
      "e    76\n",
      "f    68\n",
      "Name: B, dtype: int32\n"
     ]
    }
   ],
   "source": [
    "df1 = pd.DataFrame(npr.randint(10, 100, (6,4)),\n",
    "                   index=list('abcdef'), columns=list('ABCD'))\n",
    "#print(df1)\n",
    "\n",
    "#print(df1[2:4])      # stop not included\n",
    "#df1[2:4] = 0\n",
    "print(df1)\n",
    "\n",
    "#df1.loc['a']\n",
    "#df1.loc[:, 'A']\n",
    "#print(df1.loc['b':'e'])   # 'e' included\n",
    "\n",
    "#print(df1.iloc[0])\n",
    "#print(df1.iloc[1:4])   # stop not included\n",
    "\n",
    "#print(df1.iloc[1:3, 1:2])\n",
    "#print(df1.iloc[1:5, 1:])\n",
    "\n",
    "print(df1['B'])"
   ]
  },
  {
   "cell_type": "code",
   "execution_count": 30,
   "id": "7d5050c8",
   "metadata": {},
   "outputs": [
    {
     "name": "stdout",
     "output_type": "stream",
     "text": [
      "    A   B   C   D   E\n",
      "a  47  11  41  26 -15\n",
      "b  93  90  71  58 -13\n",
      "c  31  86  88  28 -60\n",
      "d  20  63  28  60  32\n",
      "e  98  76  29  29   0\n",
      "f  55  68  94  22 -72\n",
      "    A   B   C   D   E\n",
      "a  47  11  41  26 -15\n",
      "b  93  90  71  58 -13\n",
      "c  31  86  88  28 -60\n",
      "d  20  63  28  60  32\n",
      "e  98  76  29  29   0\n",
      "f  55  68  94  22 -72\n",
      "    A   C   D   E\n",
      "a  47  41  26 -15\n",
      "b  93  71  58 -13\n",
      "c  31  88  28 -60\n",
      "d  20  28  60  32\n",
      "e  98  29  29   0\n",
      "f  55  94  22 -72\n"
     ]
    }
   ],
   "source": [
    "print(df1)\n",
    "df1['E'] = df1['D'] - df1['C']\n",
    "print(df1)\n",
    "df1.drop('B', axis=1, inplace=True)\n",
    "print(df1)"
   ]
  },
  {
   "cell_type": "code",
   "execution_count": 32,
   "id": "e10c0f61",
   "metadata": {},
   "outputs": [
    {
     "name": "stdout",
     "output_type": "stream",
     "text": [
      "    A   C   D   E\n",
      "a  47  41  26 -15\n",
      "b  93  71  58 -13\n",
      "c  31  88  28 -60\n",
      "d  20  28  60  32\n",
      "e  98  29  29   0\n",
      "f  55  94  22 -72\n",
      "    A   C   D   E\n",
      "a  47  41  26 -15\n",
      "c  31  88  28 -60\n",
      "e  98  29  29   0\n",
      "f  55  94  22 -72\n"
     ]
    }
   ],
   "source": [
    "print(df1)\n",
    "df1.drop(['b','d'], inplace=True)\n",
    "print(df1)"
   ]
  },
  {
   "cell_type": "code",
   "execution_count": 39,
   "id": "9bc7db9e",
   "metadata": {},
   "outputs": [
    {
     "name": "stdout",
     "output_type": "stream",
     "text": [
      "Index(['무인교통단속카메라관리번호', '시도명', '시군구명', '도로종류', '도로노선번호', '도로노선명', '도로노선방향',\n",
      "       '소재지도로명주소', '소재지지번주소', '위도', '경도', '설치장소', '단속구분', '제한속도', '단속구간위치구분',\n",
      "       '과속단속구간길이', '보호구역구분', '설치연도', '관리기관명', '관리기관전화번호', '데이터기준일자', '제공기관코드',\n",
      "       '제공기관명'],\n",
      "      dtype='object')\n"
     ]
    }
   ],
   "source": [
    "import pandas as pd\n",
    "import matplotlib.pyplot as plt\n",
    "import numpy as np\n",
    "\n",
    "pd_data = pd.read_csv('전국무인교통단속카메라표준데이터_utf8.csv',\n",
    "                      encoding='utf8', dtype='str')\n",
    "#print(pd_data.head())\n",
    "print(pd_data.columns)"
   ]
  },
  {
   "cell_type": "code",
   "execution_count": 58,
   "id": "e16455af",
   "metadata": {},
   "outputs": [
    {
     "name": "stdout",
     "output_type": "stream",
     "text": [
      "34222\n",
      "True\n",
      "28635\n"
     ]
    }
   ],
   "source": [
    "s_speedlimit = pd_data['제한속도'].astype('int')\n",
    "print(len(s_speedlimit))\n",
    "#print(s_speedlimit.head())\n",
    "#print(s_speedlimit.hasnans)\n",
    "\n",
    "#print(s_speedlimit[s_speedlimit==0])\n",
    "\n",
    "#x = s_speedlimit.where(s_speedlimit>10)\n",
    "#print(x[25:33])\n",
    "\n",
    "x = s_speedlimit.replace(0, np.NaN)\n",
    "x = x.replace(69.0, 60.0)\n",
    "#print(x[25:33])\n",
    "\n",
    "print(x.hasnans)\n",
    "x.dropna(inplace=True)\n",
    "print(len(x))\n",
    "y = x.value_counts()"
   ]
  },
  {
   "cell_type": "code",
   "execution_count": 69,
   "id": "41a6bc42",
   "metadata": {},
   "outputs": [
    {
     "name": "stdout",
     "output_type": "stream",
     "text": [
      "Float64Index([20.0, 30.0, 40.0, 50.0, 60.0, 70.0, 80.0, 90.0, 100.0, 110.0], dtype='float64')\n",
      "       제한속도     ratio\n",
      "20.0     31  0.001083\n",
      "30.0   8287  0.289401\n",
      "40.0    762  0.026611\n",
      "50.0   6915  0.241488\n",
      "60.0   6635  0.231709\n",
      "70.0   2408  0.084093\n",
      "80.0   2360  0.082417\n",
      "90.0    182  0.006356\n",
      "100.0   870  0.030382\n",
      "110.0   185  0.006461\n"
     ]
    }
   ],
   "source": [
    "#print(type(y))\n",
    "#print(y)\n",
    "\n",
    "print(y.index)\n",
    "y = y.reindex(np.sort(y.index))\n",
    "y = y.to_frame()\n",
    "y['ratio'] = y['제한속도']/28635\n",
    "print(y)"
   ]
  },
  {
   "cell_type": "code",
   "execution_count": 73,
   "id": "de82de35",
   "metadata": {},
   "outputs": [
    {
     "name": "stdout",
     "output_type": "stream",
     "text": [
      "30.0     8287\n",
      "50.0     6915\n",
      "60.0     6635\n",
      "70.0     2408\n",
      "80.0     2360\n",
      "100.0     870\n",
      "40.0      762\n",
      "110.0     185\n",
      "90.0      182\n",
      "20.0       31\n",
      "Name: 제한속도, dtype: int64\n"
     ]
    },
    {
     "data": {
      "text/plain": [
       "20.0       31\n",
       "90.0      182\n",
       "110.0     185\n",
       "40.0      762\n",
       "100.0     870\n",
       "80.0     2360\n",
       "70.0     2408\n",
       "60.0     6635\n",
       "50.0     6915\n",
       "30.0     8287\n",
       "Name: 제한속도, dtype: int64"
      ]
     },
     "execution_count": 73,
     "metadata": {},
     "output_type": "execute_result"
    }
   ],
   "source": [
    "y2 = x.value_counts()\n",
    "print(y2)\n",
    "y2.sort_index()\n",
    "y2.sort_values()"
   ]
  }
 ],
 "metadata": {
  "kernelspec": {
   "display_name": "Python 3 (ipykernel)",
   "language": "python",
   "name": "python3"
  },
  "language_info": {
   "codemirror_mode": {
    "name": "ipython",
    "version": 3
   },
   "file_extension": ".py",
   "mimetype": "text/x-python",
   "name": "python",
   "nbconvert_exporter": "python",
   "pygments_lexer": "ipython3",
   "version": "3.10.5"
  }
 },
 "nbformat": 4,
 "nbformat_minor": 5
}
